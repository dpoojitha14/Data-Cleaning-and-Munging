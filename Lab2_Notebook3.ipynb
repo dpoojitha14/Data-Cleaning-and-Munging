{
 "cells": [
  {
   "cell_type": "markdown",
   "metadata": {},
   "source": [
    "ACTIVITY 2: Extract and Repurpose Data."
   ]
  },
  {
   "cell_type": "markdown",
   "metadata": {},
   "source": [
    "Input Data Set : European Soccer Data."
   ]
  },
  {
   "cell_type": "markdown",
   "metadata": {},
   "source": [
    "Output files: \"players.csv\" , \"teams.csv\""
   ]
  },
  {
   "cell_type": "markdown",
   "metadata": {},
   "source": [
    "players.csv : \"id\",\"player_api_id\",\"player_name\",\"player_fifa_api_id\",\"overall_rating\",\"gk_rating\",\"appearances\",\"leagues\""
   ]
  },
  {
   "cell_type": "markdown",
   "metadata": {},
   "source": [
    "teams.csv : \"team_api_id\",\"team_long_name\",\"buildUp\",\"chanceCreation\",\"defense\",\"goals\""
   ]
  },
  {
   "cell_type": "code",
   "execution_count": 1,
   "metadata": {
    "collapsed": false
   },
   "outputs": [],
   "source": [
    "install.packages(\"dplyr\")\n",
    "install.packages(\"methods\")\n",
    "install.packages(\"sqldf\")"
   ]
  },
  {
   "cell_type": "code",
   "execution_count": 4,
   "metadata": {
    "collapsed": false
   },
   "outputs": [
    {
     "name": "stderr",
     "output_type": "stream",
     "text": [
      "\n",
      "Attaching package: ‘dplyr’\n",
      "\n",
      "The following objects are masked from ‘package:stats’:\n",
      "\n",
      "    filter, lag\n",
      "\n",
      "The following objects are masked from ‘package:base’:\n",
      "\n",
      "    intersect, setdiff, setequal, union\n",
      "\n",
      "Loading required package: gsubfn\n",
      "Loading required package: proto\n",
      "Loading required package: RSQLite\n"
     ]
    }
   ],
   "source": [
    "library(\"dplyr\")\n",
    "library(\"methods\")\n",
    "library(\"sqldf\")"
   ]
  },
  {
   "cell_type": "code",
   "execution_count": 5,
   "metadata": {
    "collapsed": false
   },
   "outputs": [],
   "source": [
    "my_db <- src_sqlite(\"database.sqlite\", create = TRUE)"
   ]
  },
  {
   "cell_type": "code",
   "execution_count": 6,
   "metadata": {
    "collapsed": false
   },
   "outputs": [
    {
     "name": "stdout",
     "output_type": "stream",
     "text": [
      "src:  sqlite 3.11.1 [database.sqlite]\n",
      "tbls: Country, League, Match, Player, Player_Attributes, sqlite_sequence, Team,\n",
      "  Team_Attributes\n"
     ]
    }
   ],
   "source": [
    "show(my_db)"
   ]
  },
  {
   "cell_type": "code",
   "execution_count": 7,
   "metadata": {
    "collapsed": false
   },
   "outputs": [],
   "source": [
    "player = tbl(my_db,\"Player\")\n",
    "player_attr = tbl(my_db,\"Player_Attributes\")\n",
    "country = tbl(my_db,\"Country\")\n",
    "league = tbl(my_db,\"League\")\n",
    "match = tbl(my_db,\"Match\")\n",
    "team = tbl(my_db,\"Team\")\n",
    "team_attr = tbl(my_db,\"Team_Attributes\")"
   ]
  },
  {
   "cell_type": "markdown",
   "metadata": {},
   "source": [
    "Loading the values to a dataframe."
   ]
  },
  {
   "cell_type": "code",
   "execution_count": 8,
   "metadata": {
    "collapsed": true
   },
   "outputs": [],
   "source": [
    "player = data.frame(player)\n",
    "player_attr = data.frame(player_attr)\n",
    "country = data.frame(country)\n",
    "league = data.frame(league)\n",
    "match = data.frame(match)\n",
    "team = data.frame(team)\n",
    "team_attr = data.frame(team_attr)"
   ]
  },
  {
   "cell_type": "code",
   "execution_count": 9,
   "metadata": {
    "collapsed": false
   },
   "outputs": [],
   "source": [
    "#Filtering out columns\n",
    "new_player = player %>% select(id,player_api_id,player_name,player_fifa_api_id)\n",
    "#new_player"
   ]
  },
  {
   "cell_type": "code",
   "execution_count": 10,
   "metadata": {
    "collapsed": false
   },
   "outputs": [],
   "source": [
    "new_player_attr = player_attr %>% select(player_api_id,overall_rating,gk_diving,gk_handling,gk_kicking,gk_positioning,gk_reflexes)"
   ]
  },
  {
   "cell_type": "code",
   "execution_count": 11,
   "metadata": {
    "collapsed": false
   },
   "outputs": [],
   "source": [
    "rating_table = new_player_attr %>% group_by(player_api_id) %>% summarise(overall_rating = max(overall_rating))"
   ]
  },
  {
   "cell_type": "code",
   "execution_count": 12,
   "metadata": {
    "collapsed": false
   },
   "outputs": [],
   "source": [
    "new_player_attr$gk_rating = new_player_attr$gk_diving + new_player_attr$gk_handling + new_player_attr$gk_kicking + new_player_attr$gk_positioning + new_player_attr$gk_reflexes"
   ]
  },
  {
   "cell_type": "code",
   "execution_count": 13,
   "metadata": {
    "collapsed": false
   },
   "outputs": [],
   "source": [
    "gk_table = new_player_attr %>% group_by(player_api_id) %>% summarise(gk_rating = max(gk_rating))"
   ]
  },
  {
   "cell_type": "markdown",
   "metadata": {},
   "source": [
    "Adding columns to the players dataframe by joining two dataframes."
   ]
  },
  {
   "cell_type": "code",
   "execution_count": 14,
   "metadata": {
    "collapsed": false
   },
   "outputs": [
    {
     "name": "stderr",
     "output_type": "stream",
     "text": [
      "Joining, by = \"player_api_id\"\n",
      "Joining, by = \"player_api_id\"\n"
     ]
    }
   ],
   "source": [
    "players = left_join(x=new_player,y=rating_table)\n",
    "players = left_join(x=players, y = gk_table)"
   ]
  },
  {
   "cell_type": "markdown",
   "metadata": {},
   "source": [
    "match1 = Contains details of home players"
   ]
  },
  {
   "cell_type": "markdown",
   "metadata": {},
   "source": [
    "match2 = Contains details of away players"
   ]
  },
  {
   "cell_type": "code",
   "execution_count": 15,
   "metadata": {
    "collapsed": false
   },
   "outputs": [],
   "source": [
    "match1 = match %>% select(league_id,match_api_id,home_player_1,home_player_2,home_player_3,home_player_4,home_player_5,home_player_6,home_player_7,home_player_8,home_player_9,home_player_10,home_player_11)\n",
    "match1 = na.omit(match1)\n",
    "match2 = match %>% select(league_id,match_api_id,away_player_1,away_player_2,away_player_3,away_player_4,away_player_5,away_player_6,away_player_7,away_player_8,away_player_9,away_player_10,away_player_11)\n",
    "match2 = na.omit(match2)"
   ]
  },
  {
   "cell_type": "markdown",
   "metadata": {},
   "source": [
    "Calculating the appearances of each player"
   ]
  },
  {
   "cell_type": "code",
   "execution_count": 27,
   "metadata": {
    "collapsed": true
   },
   "outputs": [],
   "source": [
    "for(i in (1:nrow(players)))\n",
    "    {\n",
    "    players$appearances[i] = 0\n",
    "}"
   ]
  },
  {
   "cell_type": "code",
   "execution_count": 38,
   "metadata": {
    "collapsed": false
   },
   "outputs": [],
   "source": [
    "#Change the value of home_player_n and away_player_n \n",
    "players_size = nrow(players)\n",
    "for(i in (1:players_size))\n",
    "    {\n",
    "    count = 0\n",
    "    id = players$player_api_id[i]\n",
    "    home_count = sum(match1$home_player_11 == id)\n",
    "    away_count = sum(match1$away_player_11 == id)\n",
    "    count = home_count + away_count\n",
    "    players$appearances[i] = players$appearances[i] + count\n",
    "}\n",
    "#dim(players)\n",
    "#colnames(players)"
   ]
  },
  {
   "cell_type": "code",
   "execution_count": null,
   "metadata": {
    "collapsed": true
   },
   "outputs": [],
   "source": [
    "install.packages(\"plyr\")"
   ]
  },
  {
   "cell_type": "code",
   "execution_count": 40,
   "metadata": {
    "collapsed": false
   },
   "outputs": [
    {
     "name": "stderr",
     "output_type": "stream",
     "text": [
      "------------------------------------------------------------------------------\n",
      "You have loaded plyr after dplyr - this is likely to cause problems.\n",
      "If you need functions from both plyr and dplyr, please load plyr first, then dplyr:\n",
      "library(plyr); library(dplyr)\n",
      "------------------------------------------------------------------------------\n",
      "\n",
      "Attaching package: ‘plyr’\n",
      "\n",
      "The following objects are masked from ‘package:dplyr’:\n",
      "\n",
      "    arrange, count, desc, failwith, id, mutate, rename, summarise,\n",
      "    summarize\n",
      "\n"
     ]
    }
   ],
   "source": [
    "library(\"plyr\")"
   ]
  },
  {
   "cell_type": "markdown",
   "metadata": {},
   "source": [
    "Counting the number of leagues for each home player."
   ]
  },
  {
   "cell_type": "code",
   "execution_count": 41,
   "metadata": {
    "collapsed": false
   },
   "outputs": [],
   "source": [
    "home1 = count(match1, vars = c(\"league_id\",\"home_player_1\"))\n",
    "home2 = count(match1, vars = c(\"league_id\",\"home_player_2\"))\n",
    "home3 = count(match1, vars = c(\"league_id\",\"home_player_3\"))\n",
    "home4 = count(match1, vars = c(\"league_id\",\"home_player_4\"))\n",
    "home5 = count(match1, vars = c(\"league_id\",\"home_player_5\"))\n",
    "home6 = count(match1, vars = c(\"league_id\",\"home_player_6\"))\n",
    "home7 = count(match1, vars = c(\"league_id\",\"home_player_7\"))\n",
    "home8 = count(match1, vars = c(\"league_id\",\"home_player_8\"))\n",
    "home9 = count(match1, vars = c(\"league_id\",\"home_player_9\"))\n",
    "home10 = count(match1, vars = c(\"league_id\",\"home_player_10\"))\n",
    "home11 = count(match1, vars = c(\"league_id\",\"home_player_11\"))"
   ]
  },
  {
   "cell_type": "markdown",
   "metadata": {},
   "source": [
    "Counting the number of leagues for each away player."
   ]
  },
  {
   "cell_type": "code",
   "execution_count": 42,
   "metadata": {
    "collapsed": false
   },
   "outputs": [],
   "source": [
    "away1 = count(match2, vars = c(\"league_id\",\"away_player_1\"))\n",
    "away2 = count(match2, vars = c(\"league_id\",\"away_player_2\"))\n",
    "away3 = count(match2, vars = c(\"league_id\",\"away_player_3\"))\n",
    "away4 = count(match2, vars = c(\"league_id\",\"away_player_4\"))\n",
    "away5 = count(match2, vars = c(\"league_id\",\"away_player_5\"))\n",
    "away6 = count(match2, vars = c(\"league_id\",\"away_player_6\"))\n",
    "away7 = count(match2, vars = c(\"league_id\",\"away_player_7\"))\n",
    "away8 = count(match2, vars = c(\"league_id\",\"away_player_8\"))\n",
    "away9 = count(match2, vars = c(\"league_id\",\"away_player_9\"))\n",
    "away10 = count(match2, vars = c(\"league_id\",\"away_player_10\"))\n",
    "away11 = count(match2, vars = c(\"league_id\",\"away_player_11\"))"
   ]
  },
  {
   "cell_type": "markdown",
   "metadata": {},
   "source": [
    "Initializing the values of league_n to zero."
   ]
  },
  {
   "cell_type": "code",
   "execution_count": 43,
   "metadata": {
    "collapsed": true
   },
   "outputs": [],
   "source": [
    "for(i in (1:nrow(players)))\n",
    "    {\n",
    "    players$league1[i] = 0\n",
    "    players$league2[i] = 0\n",
    "    players$league3[i] = 0\n",
    "    players$league4[i] = 0\n",
    "    players$league5[i] = 0\n",
    "    players$league6[i] = 0\n",
    "    players$league7[i] = 0\n",
    "    players$league8[i] = 0\n",
    "    players$league9[i] = 0\n",
    "    players$league10[i] = 0\n",
    "    players$league11[i] = 0\n",
    "}"
   ]
  },
  {
   "cell_type": "markdown",
   "metadata": {},
   "source": [
    "Calculating the number of each league for each player."
   ]
  },
  {
   "cell_type": "markdown",
   "metadata": {},
   "source": [
    "Change homen to awayn or awayn to homen 11 times."
   ]
  },
  {
   "cell_type": "markdown",
   "metadata": {},
   "source": [
    "Change home_player_n/away_player_n"
   ]
  },
  {
   "cell_type": "code",
   "execution_count": 65,
   "metadata": {
    "collapsed": false
   },
   "outputs": [],
   "source": [
    "#change here\n",
    "size = nrow(home11)\n",
    "for(j in (1:size))\n",
    "    {\n",
    "    #change here 2 times\n",
    "    id = home11$home_player_11[j]\n",
    "    #change here\n",
    "    l = home11$league_id[j]\n",
    "    index = which(players$player_api_id == id)\n",
    "    if(l == \"1\")\n",
    "    {\n",
    "        players$league1[index] = players$league1[index] + 1\n",
    "    }\n",
    "    if(l == \"1729\")\n",
    "        {\n",
    "        players$league2[index] = players$league2[index] +1\n",
    "    }\n",
    "    if(l == \"4769\")\n",
    "        {\n",
    "        players$league3[index] = players$league3[index] +1\n",
    "    }\n",
    "    if(l == \"7809\")\n",
    "        {\n",
    "        players$league4[index] = players$league4[index] +1\n",
    "    }\n",
    "    if(l == \"10257\")\n",
    "        {\n",
    "        players$league5[index] = players$league5[index] +1\n",
    "    }\n",
    "    if(l == \"13274\")\n",
    "        {\n",
    "        players$league6[index] = players$league6[index] +1\n",
    "    }\n",
    "    if(l == \"15722\")\n",
    "        {\n",
    "        players$league7[index] = players$league7[index] +1\n",
    "    }\n",
    "    if(l == \"17642\")\n",
    "        {\n",
    "        players$league8[index] = players$league8[index] +1\n",
    "    }\n",
    "    if(l == \"19694\")\n",
    "        {\n",
    "        players$league9[index] = players$league9[index] +1\n",
    "    }\n",
    "    if(l == \"21518\")\n",
    "        {\n",
    "        players$league10[index] = players$league10[index] +1\n",
    "    }\n",
    "    if(l == \"24558\")\n",
    "        {\n",
    "        players$league11[index] = players$league11[index] +1\n",
    "    }\n",
    "    \n",
    "}"
   ]
  },
  {
   "cell_type": "markdown",
   "metadata": {},
   "source": [
    "Calculating the number of leagues for each player by summing all league values."
   ]
  },
  {
   "cell_type": "code",
   "execution_count": 66,
   "metadata": {
    "collapsed": false
   },
   "outputs": [],
   "source": [
    "for(i in (1:nrow(players)))\n",
    "    {\n",
    "    players$leagues[i] = players$league1[i] + players$league2[i] + players$league3[i] + players$league4[i] +players$league5[i] + players$league6[i] + players$league7[i] + players$league8[i] + players$league9[i] + players$league10[i] + players$league11[i]\n",
    "}"
   ]
  },
  {
   "cell_type": "markdown",
   "metadata": {},
   "source": [
    "Writing PLAYERS INFO to a csv file (\"players.csv\")"
   ]
  },
  {
   "cell_type": "code",
   "execution_count": 67,
   "metadata": {
    "collapsed": true
   },
   "outputs": [],
   "source": [
    "write.csv(players[,c(\"id\",\"player_api_id\",\"player_name\",\"player_fifa_api_id\",\"overall_rating\",\"gk_rating\",\"appearances\",\"leagues\")], file=\"players.csv\",row.names=FALSE)\n"
   ]
  },
  {
   "cell_type": "markdown",
   "metadata": {
    "collapsed": true
   },
   "source": [
    "Refining TEAMS INFO for teams.csv"
   ]
  },
  {
   "cell_type": "code",
   "execution_count": 68,
   "metadata": {
    "collapsed": false
   },
   "outputs": [],
   "source": [
    "teams = team %>% select(team_api_id,team_long_name)\n",
    "for(i in (1:nrow(teams)))\n",
    "    {\n",
    "    teams$buildUp = 0\n",
    "    teams$chanceCreation = 0\n",
    "    teams$defense = 0\n",
    "}\n",
    "for(i in (1:nrow(team_attr)))\n",
    "    {\n",
    "    id = team_attr$team_api_id[i]\n",
    "    index = which(teams$team_api_id == id)\n",
    "    teams$buildUp[index] = team_attr$buildUpPlaySpeed[i] + team_attr$buildUpPlayDribbling[i] + team_attr$buildUpPlayPassing[i]\n",
    "    teams$chanceCreation[index] = team_attr$chanceCreationPassing[i] + team_attr$chanceCreationCrossing[i] + team_attr$chanceCreationShooting[i]\n",
    "    teams$defense[index] = team_attr$defencePressure[i] + team_attr$defenceAggression[i] + team_attr$defenceTeamWidth[i]\n",
    "}"
   ]
  },
  {
   "cell_type": "code",
   "execution_count": 69,
   "metadata": {
    "collapsed": false
   },
   "outputs": [],
   "source": [
    "teams[is.na(teams)] = 0"
   ]
  },
  {
   "cell_type": "code",
   "execution_count": 70,
   "metadata": {
    "collapsed": false
   },
   "outputs": [],
   "source": [
    "goal_table = match %>% select(match_api_id,home_team_api_id,away_team_api_id,home_team_goal,away_team_goal)"
   ]
  },
  {
   "cell_type": "code",
   "execution_count": 71,
   "metadata": {
    "collapsed": false
   },
   "outputs": [],
   "source": [
    "#Initializing the value of goals for each team to zero.\n",
    "for(i in (1:nrow(teams)))\n",
    "    {\n",
    "    teams$goals[i] = 0\n",
    "}"
   ]
  },
  {
   "cell_type": "code",
   "execution_count": 72,
   "metadata": {
    "collapsed": true
   },
   "outputs": [],
   "source": [
    "#Determing the home__team_goal and away_team_goal\n",
    "for(i in (1:nrow(goal_table)))\n",
    "    {\n",
    "    home = goal_table$home_team_api_id[i]\n",
    "    away = goal_table$away_team_api_id[i]\n",
    "    hgoal = goal_table$home_team_goal[i]\n",
    "    agoal = goal_table$away_team_goal[i]\n",
    "    home_index = which(teams$team_api_id == home)\n",
    "    away_index = which(teams$team_api_id == away)\n",
    "    teams$goals[home_index] = teams$goals[home_index] + hgoal\n",
    "    teams$goals[away_index] = teams$goals[away_index] + agoal\n",
    "}"
   ]
  },
  {
   "cell_type": "markdown",
   "metadata": {},
   "source": [
    "Writing data to teams.csv file"
   ]
  },
  {
   "cell_type": "code",
   "execution_count": 73,
   "metadata": {
    "collapsed": true
   },
   "outputs": [],
   "source": [
    "write.csv(teams[,c(\"team_api_id\",\"team_long_name\",\"buildUp\",\"chanceCreation\",\"defense\",\"goals\")], file=\"teams.csv\",row.names=FALSE)"
   ]
  },
  {
   "cell_type": "markdown",
   "metadata": {},
   "source": [
    "OUTPUT:"
   ]
  },
  {
   "cell_type": "markdown",
   "metadata": {},
   "source": [
    "Reading the data from players.csv file"
   ]
  },
  {
   "cell_type": "code",
   "execution_count": 74,
   "metadata": {
    "collapsed": true
   },
   "outputs": [],
   "source": [
    "data1 = read.csv(file=\"players.csv\", header=TRUE, sep=\",\")"
   ]
  },
  {
   "cell_type": "markdown",
   "metadata": {},
   "source": [
    "Reading the data from teams.csv file"
   ]
  },
  {
   "cell_type": "code",
   "execution_count": 75,
   "metadata": {
    "collapsed": true
   },
   "outputs": [],
   "source": [
    "data2 = read.csv(file=\"teams.csv\", header=TRUE, sep=\",\")"
   ]
  },
  {
   "cell_type": "code",
   "execution_count": 76,
   "metadata": {
    "collapsed": false
   },
   "outputs": [],
   "source": [
    "#From players.csv\n",
    "ans1 = head(data1[order(data1$overall_rating, decreasing= T),], n = 10)\n",
    "ans2 = head(data1[order(data1$gk_rating, decreasing= T),], n = 10)\n",
    "ans3 = head(data1[order(data1$appearances, decreasing= T),], n = 10)\n",
    "ans4 = head(data1[order(data1$leagues, decreasing= T),], n = 10)"
   ]
  },
  {
   "cell_type": "code",
   "execution_count": 77,
   "metadata": {
    "collapsed": true
   },
   "outputs": [],
   "source": [
    "#From teams.csv\n",
    "ans5 = head(data2[order(data2$buildUp, decreasing= T),], n = 10)\n",
    "ans6 = head(data2[order(data2$chanceCreation, decreasing= T),], n = 10)\n",
    "ans7 = head(data2[order(data2$defense, decreasing= T),], n = 10)\n",
    "ans8 = head(data2[order(data2$goals, decreasing= T),], n = 10)"
   ]
  },
  {
   "cell_type": "code",
   "execution_count": 78,
   "metadata": {
    "collapsed": false
   },
   "outputs": [
    {
     "name": "stdout",
     "output_type": "stream",
     "text": [
      "[1] \"Top 10 players by overall rating:\"\n"
     ]
    },
    {
     "data": {
      "text/html": [
       "'Lionel Messi, Cristiano Ronaldo, Gianluigi Buffon, Wayne Rooney, Gregory Coupet, Xavi Hernandez, Alessandro Nesta, Andres Iniesta, Fabio Cannavaro, Iker Casillas'"
      ],
      "text/latex": [
       "'Lionel Messi, Cristiano Ronaldo, Gianluigi Buffon, Wayne Rooney, Gregory Coupet, Xavi Hernandez, Alessandro Nesta, Andres Iniesta, Fabio Cannavaro, Iker Casillas'"
      ],
      "text/markdown": [
       "'Lionel Messi, Cristiano Ronaldo, Gianluigi Buffon, Wayne Rooney, Gregory Coupet, Xavi Hernandez, Alessandro Nesta, Andres Iniesta, Fabio Cannavaro, Iker Casillas'"
      ],
      "text/plain": [
       "[1] \"Lionel Messi, Cristiano Ronaldo, Gianluigi Buffon, Wayne Rooney, Gregory Coupet, Xavi Hernandez, Alessandro Nesta, Andres Iniesta, Fabio Cannavaro, Iker Casillas\""
      ]
     },
     "metadata": {},
     "output_type": "display_data"
    }
   ],
   "source": [
    "print(\"Top 10 players by overall rating:\")\n",
    "for(i in (1:10))\n",
    "    {\n",
    "    if(i==1)\n",
    "        {\n",
    "        name = ans1$player_name[i]\n",
    "        name = factor(name)\n",
    "        str1 = name\n",
    "    }\n",
    "    else\n",
    "        {\n",
    "        name = ans1$player_name[i]\n",
    "        name = factor(name)\n",
    "        str1 = paste(str1,name,sep =\", \")\n",
    "    }\n",
    "}\n",
    "str1"
   ]
  },
  {
   "cell_type": "code",
   "execution_count": 79,
   "metadata": {
    "collapsed": false
   },
   "outputs": [
    {
     "name": "stdout",
     "output_type": "stream",
     "text": [
      "[1] \"Top 10 goalkeepers by gk rating:\"\n"
     ]
    },
    {
     "data": {
      "text/html": [
       "'Gianluigi Buffon, Gregory Coupet, Petr Cech, Iker Casillas, Manuel Neuer, Julio Cesar, Sebastian Frey, Edwin van der Sar, David De Gea, Pepe Reina'"
      ],
      "text/latex": [
       "'Gianluigi Buffon, Gregory Coupet, Petr Cech, Iker Casillas, Manuel Neuer, Julio Cesar, Sebastian Frey, Edwin van der Sar, David De Gea, Pepe Reina'"
      ],
      "text/markdown": [
       "'Gianluigi Buffon, Gregory Coupet, Petr Cech, Iker Casillas, Manuel Neuer, Julio Cesar, Sebastian Frey, Edwin van der Sar, David De Gea, Pepe Reina'"
      ],
      "text/plain": [
       "[1] \"Gianluigi Buffon, Gregory Coupet, Petr Cech, Iker Casillas, Manuel Neuer, Julio Cesar, Sebastian Frey, Edwin van der Sar, David De Gea, Pepe Reina\""
      ]
     },
     "metadata": {},
     "output_type": "display_data"
    }
   ],
   "source": [
    "print(\"Top 10 goalkeepers by gk rating:\")\n",
    "for(i in (1:10))\n",
    "    {\n",
    "    if(i==1)\n",
    "        {\n",
    "        name = ans2$player_name[i]\n",
    "        name = factor(name)\n",
    "        str2 = name\n",
    "    }\n",
    "    else\n",
    "        {\n",
    "        name = ans2$player_name[i]\n",
    "        name = factor(name)\n",
    "        str2 = paste(str2,name,sep =\", \")\n",
    "    }\n",
    "}\n",
    "str2"
   ]
  },
  {
   "cell_type": "code",
   "execution_count": 86,
   "metadata": {
    "collapsed": false
   },
   "outputs": [
    {
     "name": "stdout",
     "output_type": "stream",
     "text": [
      "[1] \"Top 10 players by number of appearances:\"\n"
     ]
    },
    {
     "data": {
      "text/html": [
       "<table>\n",
       "<thead><tr><th></th><th scope=col>id</th><th scope=col>player_api_id</th><th scope=col>player_name</th><th scope=col>player_fifa_api_id</th><th scope=col>overall_rating</th><th scope=col>gk_rating</th><th scope=col>appearances</th><th scope=col>leagues</th></tr></thead>\n",
       "<tbody>\n",
       "\t<tr><th scope=row>9994</th><td>10009           </td><td>31293           </td><td>Steve Mandanda  </td><td>163705          </td><td>84              </td><td>421             </td><td>147             </td><td>2               </td></tr>\n",
       "\t<tr><th scope=row>4269</th><td> 4272           </td><td>26295           </td><td>Hugo Lloris     </td><td>167948          </td><td>86              </td><td>425             </td><td>141             </td><td>4               </td></tr>\n",
       "\t<tr><th scope=row>10286</th><td>10301           </td><td>31465           </td><td>Tim Howard      </td><td> 16254          </td><td>84              </td><td>418             </td><td>140             </td><td>2               </td></tr>\n",
       "\t<tr><th scope=row>9414</th><td> 9427           </td><td>42422           </td><td>Samir Handanovic</td><td>162835          </td><td>84              </td><td>412             </td><td>138             </td><td>2               </td></tr>\n",
       "\t<tr><th scope=row>9955</th><td> 9970           </td><td>41097           </td><td>Stephane Ruffier</td><td>167628          </td><td>NA              </td><td> NA             </td><td>138             </td><td>4               </td></tr>\n",
       "\t<tr><th scope=row>5030</th><td> 5035           </td><td>31432           </td><td>Joe Hart        </td><td>150724          </td><td>85              </td><td>414             </td><td>137             </td><td>2               </td></tr>\n",
       "</tbody>\n",
       "</table>\n"
      ],
      "text/latex": [
       "\\begin{tabular}{r|llllllll}\n",
       "  & id & player\\_api\\_id & player\\_name & player\\_fifa\\_api\\_id & overall\\_rating & gk\\_rating & appearances & leagues\\\\\n",
       "\\hline\n",
       "\t9994 & 10009            & 31293            & Steve Mandanda   & 163705           & 84               & 421              & 147              & 2               \\\\\n",
       "\t4269 &  4272            & 26295            & Hugo Lloris      & 167948           & 86               & 425              & 141              & 4               \\\\\n",
       "\t10286 & 10301            & 31465            & Tim Howard       &  16254           & 84               & 418              & 140              & 2               \\\\\n",
       "\t9414 &  9427            & 42422            & Samir Handanovic & 162835           & 84               & 412              & 138              & 2               \\\\\n",
       "\t9955 &  9970            & 41097            & Stephane Ruffier & 167628           & NA               &  NA              & 138              & 4               \\\\\n",
       "\t5030 &  5035            & 31432            & Joe Hart         & 150724           & 85               & 414              & 137              & 2               \\\\\n",
       "\\end{tabular}\n"
      ],
      "text/markdown": [
       "\n",
       "| <!--/--> | id | player_api_id | player_name | player_fifa_api_id | overall_rating | gk_rating | appearances | leagues | \n",
       "|---|---|---|---|---|---|\n",
       "| 9994 | 10009            | 31293            | Steve Mandanda   | 163705           | 84               | 421              | 147              | 2                | \n",
       "| 4269 |  4272            | 26295            | Hugo Lloris      | 167948           | 86               | 425              | 141              | 4                | \n",
       "| 10286 | 10301            | 31465            | Tim Howard       |  16254           | 84               | 418              | 140              | 2                | \n",
       "| 9414 |  9427            | 42422            | Samir Handanovic | 162835           | 84               | 412              | 138              | 2                | \n",
       "| 9955 |  9970            | 41097            | Stephane Ruffier | 167628           | NA               |  NA              | 138              | 4                | \n",
       "| 5030 |  5035            | 31432            | Joe Hart         | 150724           | 85               | 414              | 137              | 2                | \n",
       "\n",
       "\n"
      ],
      "text/plain": [
       "      id    player_api_id player_name      player_fifa_api_id overall_rating\n",
       "9994  10009 31293         Steve Mandanda   163705             84            \n",
       "4269   4272 26295         Hugo Lloris      167948             86            \n",
       "10286 10301 31465         Tim Howard        16254             84            \n",
       "9414   9427 42422         Samir Handanovic 162835             84            \n",
       "9955   9970 41097         Stephane Ruffier 167628             NA            \n",
       "5030   5035 31432         Joe Hart         150724             85            \n",
       "      gk_rating appearances leagues\n",
       "9994  421       147         2      \n",
       "4269  425       141         4      \n",
       "10286 418       140         2      \n",
       "9414  412       138         2      \n",
       "9955   NA       138         4      \n",
       "5030  414       137         2      "
      ]
     },
     "metadata": {},
     "output_type": "display_data"
    },
    {
     "data": {
      "text/html": [
       "'Steve Mandanda, Hugo Lloris, Tim Howard, Samir Handanovic, Stephane Ruffier, Joe Hart, Gorka Iraizoz Moreno, Cristiano Ronaldo, Borja Valero, Cedric Carrasso'"
      ],
      "text/latex": [
       "'Steve Mandanda, Hugo Lloris, Tim Howard, Samir Handanovic, Stephane Ruffier, Joe Hart, Gorka Iraizoz Moreno, Cristiano Ronaldo, Borja Valero, Cedric Carrasso'"
      ],
      "text/markdown": [
       "'Steve Mandanda, Hugo Lloris, Tim Howard, Samir Handanovic, Stephane Ruffier, Joe Hart, Gorka Iraizoz Moreno, Cristiano Ronaldo, Borja Valero, Cedric Carrasso'"
      ],
      "text/plain": [
       "[1] \"Steve Mandanda, Hugo Lloris, Tim Howard, Samir Handanovic, Stephane Ruffier, Joe Hart, Gorka Iraizoz Moreno, Cristiano Ronaldo, Borja Valero, Cedric Carrasso\""
      ]
     },
     "metadata": {},
     "output_type": "display_data"
    }
   ],
   "source": [
    "print(\"Top 10 players by number of appearances:\")\n",
    "\n",
    "for(i in (1:10))\n",
    "    {\n",
    "    if(i==1)\n",
    "        {\n",
    "        name = ans3$player_name[i]\n",
    "        name = factor(name)\n",
    "        str3 = name\n",
    "    }\n",
    "    else\n",
    "        {\n",
    "        name = ans3$player_name[i]\n",
    "        name = factor(name)\n",
    "        str3 = paste(str3,name,sep =\", \")\n",
    "    }\n",
    "}\n",
    "str3"
   ]
  },
  {
   "cell_type": "code",
   "execution_count": 81,
   "metadata": {
    "collapsed": false
   },
   "outputs": [
    {
     "name": "stdout",
     "output_type": "stream",
     "text": [
      "[1] \"Top 10 players by number of leagues they played in:\"\n"
     ]
    },
    {
     "data": {
      "text/html": [
       "'Gelson Fernandes, Kevin-Prince Boateng, Angel Di Maria, Timmy Simons, Alfred N\\'Diaye, Borja Valero, Guillaume Gillet, Xherdan Shaqiri, Cheikhou Kouyate, Kevin de Bruyne'"
      ],
      "text/latex": [
       "'Gelson Fernandes, Kevin-Prince Boateng, Angel Di Maria, Timmy Simons, Alfred N\\textbackslash{}'Diaye, Borja Valero, Guillaume Gillet, Xherdan Shaqiri, Cheikhou Kouyate, Kevin de Bruyne'"
      ],
      "text/markdown": [
       "'Gelson Fernandes, Kevin-Prince Boateng, Angel Di Maria, Timmy Simons, Alfred N\\'Diaye, Borja Valero, Guillaume Gillet, Xherdan Shaqiri, Cheikhou Kouyate, Kevin de Bruyne'"
      ],
      "text/plain": [
       "[1] \"Gelson Fernandes, Kevin-Prince Boateng, Angel Di Maria, Timmy Simons, Alfred N'Diaye, Borja Valero, Guillaume Gillet, Xherdan Shaqiri, Cheikhou Kouyate, Kevin de Bruyne\""
      ]
     },
     "metadata": {},
     "output_type": "display_data"
    }
   ],
   "source": [
    "print(\"Top 10 players by number of leagues they played in:\")\n",
    "for(i in (1:10))\n",
    "    {\n",
    "    if(i==1)\n",
    "        {\n",
    "        name = ans4$player_name[i]\n",
    "        name = factor(name)\n",
    "        str4 = name\n",
    "    }\n",
    "    else\n",
    "        {\n",
    "        name = ans4$player_name[i]\n",
    "        name = factor(name)\n",
    "        str4 = paste(str4,name,sep =\", \")\n",
    "    }\n",
    "}\n",
    "str4"
   ]
  },
  {
   "cell_type": "code",
   "execution_count": 82,
   "metadata": {
    "collapsed": false
   },
   "outputs": [
    {
     "name": "stdout",
     "output_type": "stream",
     "text": [
      "[1] \"Top 10 teams by build up play:\"\n"
     ]
    },
    {
     "data": {
      "text/html": [
       "'Carpi, Widzew Łódź, Widzew Łódź, FC Nantes, Podbeskidzie Bielsko-Biała, Lazio, Chievo Verona, Blackburn Rovers, Udinese, Genoa'"
      ],
      "text/latex": [
       "'Carpi, Widzew Łódź, Widzew Łódź, FC Nantes, Podbeskidzie Bielsko-Biała, Lazio, Chievo Verona, Blackburn Rovers, Udinese, Genoa'"
      ],
      "text/markdown": [
       "'Carpi, Widzew Łódź, Widzew Łódź, FC Nantes, Podbeskidzie Bielsko-Biała, Lazio, Chievo Verona, Blackburn Rovers, Udinese, Genoa'"
      ],
      "text/plain": [
       "[1] \"Carpi, Widzew Łódź, Widzew Łódź, FC Nantes, Podbeskidzie Bielsko-Biała, Lazio, Chievo Verona, Blackburn Rovers, Udinese, Genoa\""
      ]
     },
     "metadata": {},
     "output_type": "display_data"
    }
   ],
   "source": [
    "print(\"Top 10 teams by build up play:\")\n",
    "for(i in (1:10))\n",
    "    {\n",
    "    if(i==1)\n",
    "        {\n",
    "        name = ans5$team_long_name[i]\n",
    "        name = factor(name)\n",
    "        str5 = name\n",
    "    }\n",
    "    else\n",
    "        {\n",
    "        name = ans5$team_long_name[i]\n",
    "        name = factor(name)\n",
    "        str5 = paste(str5,name,sep =\", \")\n",
    "    }\n",
    "}\n",
    "str5"
   ]
  },
  {
   "cell_type": "code",
   "execution_count": 83,
   "metadata": {
    "collapsed": false
   },
   "outputs": [
    {
     "name": "stdout",
     "output_type": "stream",
     "text": [
      "[1] \"Top 10 teams by chance creation:\"\n"
     ]
    },
    {
     "data": {
      "text/html": [
       "'Lazio, Birmingham City, Falkirk, Hamilton Academical FC, Cagliari, Lech Poznań, Juventus, Bayer 04 Leverkusen, SV Werder Bremen, Roma'"
      ],
      "text/latex": [
       "'Lazio, Birmingham City, Falkirk, Hamilton Academical FC, Cagliari, Lech Poznań, Juventus, Bayer 04 Leverkusen, SV Werder Bremen, Roma'"
      ],
      "text/markdown": [
       "'Lazio, Birmingham City, Falkirk, Hamilton Academical FC, Cagliari, Lech Poznań, Juventus, Bayer 04 Leverkusen, SV Werder Bremen, Roma'"
      ],
      "text/plain": [
       "[1] \"Lazio, Birmingham City, Falkirk, Hamilton Academical FC, Cagliari, Lech Poznań, Juventus, Bayer 04 Leverkusen, SV Werder Bremen, Roma\""
      ]
     },
     "metadata": {},
     "output_type": "display_data"
    }
   ],
   "source": [
    "print(\"Top 10 teams by chance creation:\")\n",
    "for(i in (1:10))\n",
    "    {\n",
    "    if(i==1)\n",
    "        {\n",
    "        name = ans6$team_long_name[i]\n",
    "        name = factor(name)\n",
    "        str6 = name\n",
    "    }\n",
    "    else\n",
    "        {\n",
    "        name = ans6$team_long_name[i]\n",
    "        name = factor(name)\n",
    "        str6 = paste(str6,name,sep =\", \")\n",
    "    }\n",
    "}\n",
    "str6"
   ]
  },
  {
   "cell_type": "code",
   "execution_count": 84,
   "metadata": {
    "collapsed": false
   },
   "outputs": [
    {
     "name": "stdout",
     "output_type": "stream",
     "text": [
      "[1] \"Top 10 teams by defense:\"\n"
     ]
    },
    {
     "data": {
      "text/html": [
       "'KSV Roeselare, Odra Wodzisław, Falkirk, FC Barcelona, Lazio, Cagliari, FC Bayern Munich, Burnley, Bayer 04 Leverkusen, SV Werder Bremen'"
      ],
      "text/latex": [
       "'KSV Roeselare, Odra Wodzisław, Falkirk, FC Barcelona, Lazio, Cagliari, FC Bayern Munich, Burnley, Bayer 04 Leverkusen, SV Werder Bremen'"
      ],
      "text/markdown": [
       "'KSV Roeselare, Odra Wodzisław, Falkirk, FC Barcelona, Lazio, Cagliari, FC Bayern Munich, Burnley, Bayer 04 Leverkusen, SV Werder Bremen'"
      ],
      "text/plain": [
       "[1] \"KSV Roeselare, Odra Wodzisław, Falkirk, FC Barcelona, Lazio, Cagliari, FC Bayern Munich, Burnley, Bayer 04 Leverkusen, SV Werder Bremen\""
      ]
     },
     "metadata": {},
     "output_type": "display_data"
    }
   ],
   "source": [
    "print(\"Top 10 teams by defense:\")\n",
    "for(i in (1:10))\n",
    "    {\n",
    "    if(i==1)\n",
    "        {\n",
    "        name = ans7$team_long_name[i]\n",
    "        name = factor(name)\n",
    "        str7 = name\n",
    "    }\n",
    "    else\n",
    "        {\n",
    "        name = ans7$team_long_name[i]\n",
    "        name = factor(name)\n",
    "        str7 = paste(str7,name,sep =\", \")\n",
    "    }\n",
    "}\n",
    "str7"
   ]
  },
  {
   "cell_type": "code",
   "execution_count": 85,
   "metadata": {
    "collapsed": false
   },
   "outputs": [
    {
     "name": "stdout",
     "output_type": "stream",
     "text": [
      "[1] \"Top 10 teams by number of scored goals:\"\n"
     ]
    },
    {
     "data": {
      "text/html": [
       "'FC Barcelona, Real Madrid CF, Celtic, FC Bayern Munich, PSV, Ajax, FC Basel, Manchester City, Chelsea, Manchester United'"
      ],
      "text/latex": [
       "'FC Barcelona, Real Madrid CF, Celtic, FC Bayern Munich, PSV, Ajax, FC Basel, Manchester City, Chelsea, Manchester United'"
      ],
      "text/markdown": [
       "'FC Barcelona, Real Madrid CF, Celtic, FC Bayern Munich, PSV, Ajax, FC Basel, Manchester City, Chelsea, Manchester United'"
      ],
      "text/plain": [
       "[1] \"FC Barcelona, Real Madrid CF, Celtic, FC Bayern Munich, PSV, Ajax, FC Basel, Manchester City, Chelsea, Manchester United\""
      ]
     },
     "metadata": {},
     "output_type": "display_data"
    }
   ],
   "source": [
    "print(\"Top 10 teams by number of scored goals:\")\n",
    "for(i in (1:10))\n",
    "    {\n",
    "    if(i==1)\n",
    "        {\n",
    "        name = ans8$team_long_name[i]\n",
    "        name = factor(name)\n",
    "        str8 = name\n",
    "    }\n",
    "    else\n",
    "        {\n",
    "        name = ans8$team_long_name[i]\n",
    "        name = factor(name)\n",
    "        str8 = paste(str8,name,sep =\", \")\n",
    "    }\n",
    "}\n",
    "str8"
   ]
  },
  {
   "cell_type": "code",
   "execution_count": null,
   "metadata": {
    "collapsed": true
   },
   "outputs": [],
   "source": []
  }
 ],
 "metadata": {
  "anaconda-cloud": {},
  "kernelspec": {
   "display_name": "R",
   "language": "R",
   "name": "ir"
  },
  "language_info": {
   "codemirror_mode": "r",
   "file_extension": ".r",
   "mimetype": "text/x-r-source",
   "name": "R",
   "pygments_lexer": "r",
   "version": "3.3.2"
  }
 },
 "nbformat": 4,
 "nbformat_minor": 1
}
